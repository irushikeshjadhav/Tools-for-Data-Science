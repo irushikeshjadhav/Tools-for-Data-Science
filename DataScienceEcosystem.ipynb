{
 "cells": [
  {
   "cell_type": "markdown",
   "id": "514b6bc5-2769-4c46-9a6d-c5d4ae523426",
   "metadata": {},
   "source": [
    "# Data Science Tools and Ecosystem"
   ]
  },
  {
   "cell_type": "markdown",
   "id": "ef000e7a-6ebc-4692-82e1-e646d8b2d4a7",
   "metadata": {},
   "source": [
    "In this notebook, Data Science Tools and Ecosystem are summarized."
   ]
  },
  {
   "cell_type": "markdown",
   "id": "3e24d686-68a4-47fd-bf4f-9bdf5f0bfbbb",
   "metadata": {},
   "source": [
    "Some of the popular languages that Data Scientists use are:\n",
    "1. Python\n",
    "2. R\n",
    "3. SQL\n",
    "4. C++\n",
    "5. Java "
   ]
  },
  {
   "cell_type": "markdown",
   "id": "4766cbf0-d674-4e04-8de4-64e98862cc8a",
   "metadata": {},
   "source": [
    "Some of the commonly used libraries used by Data Scientists include:\n",
    "1. TensorFlow\n",
    "2. NumPy\n",
    "3. SciPy\n",
    "4. Pandas\n",
    "5. Matplotlib\n",
    "6. Keras\n",
    "7. Scikit-Learn\n",
    "8. PyTorch"
   ]
  },
  {
   "cell_type": "markdown",
   "id": "976bd435-6bbc-430c-9b5f-af5545ce89d1",
   "metadata": {},
   "source": [
    "|Data Science Tools|\n",
    "|--|\n",
    "|SAS|\n",
    "|Apache Hadoop|\n",
    "|TensorFlow|\n"
   ]
  },
  {
   "cell_type": "markdown",
   "id": "2c5c084e-e8c6-44be-9b23-973945313f62",
   "metadata": {},
   "source": [
    "### Below are a few examples of evaluating arithmetic expressions in Python"
   ]
  },
  {
   "cell_type": "code",
   "execution_count": 1,
   "id": "1b3acad4-4018-43ed-bf29-a0fa54281f03",
   "metadata": {},
   "outputs": [
    {
     "data": {
      "text/plain": [
       "17"
      ]
     },
     "execution_count": 1,
     "metadata": {},
     "output_type": "execute_result"
    }
   ],
   "source": [
    "#This a simple arithmetic expression to mutiply then add integers\n",
    "(3*4)+5"
   ]
  },
  {
   "cell_type": "code",
   "execution_count": 2,
   "id": "9f4171c3-d2ac-4077-b4e0-72f6547d3286",
   "metadata": {},
   "outputs": [
    {
     "data": {
      "text/plain": [
       "3.3333333333333335"
      ]
     },
     "execution_count": 2,
     "metadata": {},
     "output_type": "execute_result"
    }
   ],
   "source": [
    "#This will convert 200 minutes to hours by diving by 60\n",
    "200/60"
   ]
  },
  {
   "cell_type": "markdown",
   "id": "a814c491-60b2-4df8-925f-9c5583e8ef79",
   "metadata": {},
   "source": [
    "__Objective__\n",
    "* List popular languages for Data Science\n",
    "* List popular libraries for Data Science\n",
    "* List of well known Data Science Tools\n",
    "* How to Provide comments in the cell"
   ]
  },
  {
   "cell_type": "markdown",
   "id": "9535ab50-0438-424a-aee6-6fb83b9371a4",
   "metadata": {
    "jp-MarkdownHeadingCollapsed": true
   },
   "source": [
    "## Author\n",
    "Rushikesh Jadhav"
   ]
  }
 ],
 "metadata": {
  "kernelspec": {
   "display_name": "Python 3 (ipykernel)",
   "language": "python",
   "name": "python3"
  },
  "language_info": {
   "codemirror_mode": {
    "name": "ipython",
    "version": 3
   },
   "file_extension": ".py",
   "mimetype": "text/x-python",
   "name": "python",
   "nbconvert_exporter": "python",
   "pygments_lexer": "ipython3",
   "version": "3.12.3"
  }
 },
 "nbformat": 4,
 "nbformat_minor": 5
}
